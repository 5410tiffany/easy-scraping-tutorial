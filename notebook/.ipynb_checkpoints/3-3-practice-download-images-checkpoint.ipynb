{
 "cells": [
  {
   "cell_type": "markdown",
   "metadata": {},
   "source": [
    "# Practice: download images from web\n",
    "\n",
    "**Download amazing pictures from [national geographic](http://www.nationalgeographic.com.cn/animals/)**"
   ]
  },
  {
   "cell_type": "code",
   "execution_count": 1,
   "metadata": {},
   "outputs": [],
   "source": [
    "from bs4 import BeautifulSoup\n",
    "import requests\n",
    "\n",
    "# URL = \"http://www.nationalgeographic.com.cn/animals/\"\n",
    "URL = 'https://mofanpy.com/tutorials/data-manipulation/scraping/practice-download-image/'"
   ]
  },
  {
   "cell_type": "markdown",
   "metadata": {},
   "source": [
    "## find list of image holder"
   ]
  },
  {
   "cell_type": "code",
   "execution_count": 9,
   "metadata": {},
   "outputs": [
    {
     "data": {
      "text/plain": [
       "25"
      ]
     },
     "execution_count": 9,
     "metadata": {},
     "output_type": "execute_result"
    }
   ],
   "source": [
    "html = requests.get(URL).text\n",
    "soup = BeautifulSoup(html, 'lxml')\n",
    "imgs = soup.find_all('img', {\"class\": \"icon-image\"})\n",
    "len(imgs) # how many blocks satisfied the tags & class"
   ]
  },
  {
   "cell_type": "markdown",
   "metadata": {},
   "source": [
    "**Create a folder for these pictures**"
   ]
  },
  {
   "cell_type": "code",
   "execution_count": 5,
   "metadata": {},
   "outputs": [],
   "source": [
    "import os\n",
    "\n",
    "os.makedirs('./img/', exist_ok=True)"
   ]
  },
  {
   "cell_type": "markdown",
   "metadata": {},
   "source": [
    "## download "
   ]
  },
  {
   "cell_type": "code",
   "execution_count": 10,
   "metadata": {},
   "outputs": [
    {
     "name": "stdout",
     "output_type": "stream",
     "text": [
      "Saved learning-steps.png\n",
      "Saved python_icon.png\n",
      "Saved basic_icon.png\n",
      "Saved multiprocessing_icon.png\n",
      "Saved thread_icon.png\n",
      "Saved GUI_icon.png\n",
      "Saved ML_icon.png\n",
      "Saved ML_intro_icon.png\n",
      "Saved rl_icon.png\n",
      "Saved evolution_icon.png\n",
      "Saved neural_net_icon.png\n",
      "Saved tf_icon.png\n",
      "Saved torch_icon.png\n",
      "Saved theano_icon.png\n",
      "Saved keras_icon.jpg\n",
      "Saved sklearn_icon.png\n",
      "Saved nlp_icon.png\n",
      "Saved ML-practice_icon.png\n",
      "Saved data_icon.png\n",
      "Saved np_pd_icon.png\n",
      "Saved plt_icon.png\n",
      "Saved scraping_icon.png\n",
      "Saved others_icon.png\n",
      "Saved git_icon.png\n",
      "Saved linux_icon.png\n"
     ]
    }
   ],
   "source": [
    "for img in imgs:\n",
    "    url = img['src']\n",
    "    r = requests.get(url, stream=True)\n",
    "    image_name = url.split('/')[-1]\n",
    "    with open('./img/%s' % image_name, 'wb') as f:\n",
    "        for chunk in r.iter_content(chunk_size=128):\n",
    "            f.write(chunk)\n",
    "    print(f'Saved {image_name}')"
   ]
  },
  {
   "cell_type": "markdown",
   "metadata": {},
   "source": [
    "## download (from moufan ver)\n",
    "\n",
    "**Find all picture urls and download them.**"
   ]
  },
  {
   "cell_type": "code",
   "execution_count": 4,
   "metadata": {},
   "outputs": [
    {
     "name": "stdout",
     "output_type": "stream",
     "text": [
      "Saved 20171227102206573.jpg\n",
      "Saved 20171226032741976.jpg\n",
      "Saved 20171220114008366.jpg\n",
      "Saved 20171219102251229.jpg\n",
      "Saved 20171215043409613.jpg\n",
      "Saved 20171214020322682.jpg\n"
     ]
    }
   ],
   "source": [
    "\n",
    "# for ul in img_ul:\n",
    "#     imgs = ul.find_all('img')\n",
    "#     for img in imgs:\n",
    "#         url = img['src']\n",
    "#         r = requests.get(url, stream=True)\n",
    "#         image_name = url.split('/')[-1]\n",
    "#         with open('./img/%s' % image_name, 'wb') as f:\n",
    "#             for chunk in r.iter_content(chunk_size=128):\n",
    "#                 f.write(chunk)\n",
    "#         print('Saved %s' % image_name)"
   ]
  },
  {
   "cell_type": "markdown",
   "metadata": {},
   "source": [
    "![image](/img/20171214020322682.jpg)"
   ]
  },
  {
   "cell_type": "code",
   "execution_count": null,
   "metadata": {},
   "outputs": [],
   "source": []
  }
 ],
 "metadata": {
  "kernelspec": {
   "display_name": "Python 3",
   "language": "python",
   "name": "python3"
  },
  "language_info": {
   "codemirror_mode": {
    "name": "ipython",
    "version": 3
   },
   "file_extension": ".py",
   "mimetype": "text/x-python",
   "name": "python",
   "nbconvert_exporter": "python",
   "pygments_lexer": "ipython3",
   "version": "3.7.7"
  }
 },
 "nbformat": 4,
 "nbformat_minor": 1
}
